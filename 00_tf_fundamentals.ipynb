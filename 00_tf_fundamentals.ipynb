{
  "nbformat": 4,
  "nbformat_minor": 0,
  "metadata": {
    "colab": {
      "name": "00_tf_fundamentals.ipynb",
      "provenance": [],
      "authorship_tag": "ABX9TyPQWtCqZ1cZAOljxyBUIb+7",
      "include_colab_link": true
    },
    "kernelspec": {
      "name": "python3",
      "display_name": "Python 3"
    },
    "language_info": {
      "name": "python"
    }
  },
  "cells": [
    {
      "cell_type": "markdown",
      "metadata": {
        "id": "view-in-github",
        "colab_type": "text"
      },
      "source": [
        "<a href=\"https://colab.research.google.com/github/cblee044/Learning_TensorFlow/blob/main/00_tf_fundamentals.ipynb\" target=\"_parent\"><img src=\"https://colab.research.google.com/assets/colab-badge.svg\" alt=\"Open In Colab\"/></a>"
      ]
    },
    {
      "cell_type": "markdown",
      "source": [
        "# In this notebook we will cover the fundamentals of tensors in TensorFlow\n",
        "\n",
        "MOre specifically, we're going to cover:\n",
        "* Introduction to tensors\n",
        "* Getting information from tensors\n",
        "* Manipulating tensors\n",
        "* Tensors and numpy\n",
        "* Using atf function(a way to speed up your regular python features)\n",
        "* Using GPUs with TensorFlow\n",
        "* Exercises to try for yourself"
      ],
      "metadata": {
        "id": "oVwp3X3pFd2k"
      }
    },
    {
      "cell_type": "markdown",
      "source": [
        "# Introduction to Tensors"
      ],
      "metadata": {
        "id": "DVY5kFe6GETt"
      }
    },
    {
      "cell_type": "code",
      "source": [
        "# Import Tensorflow\n",
        "import tensorflow as tf\n",
        "print(tf.__version__)"
      ],
      "metadata": {
        "colab": {
          "base_uri": "https://localhost:8080/"
        },
        "id": "_WSCoIfYhDqP",
        "outputId": "f547c88e-9577-434a-b02f-907aae0b257c"
      },
      "execution_count": null,
      "outputs": [
        {
          "output_type": "stream",
          "name": "stdout",
          "text": [
            "2.8.0\n"
          ]
        }
      ]
    },
    {
      "cell_type": "code",
      "source": [
        "# Creating tensors with tf.constant()\n",
        "scalar = tf.constant(7)\n",
        "scalar"
      ],
      "metadata": {
        "colab": {
          "base_uri": "https://localhost:8080/"
        },
        "id": "U_BmtC4khgpd",
        "outputId": "79233fae-b418-48bb-beb5-21a172a929ef"
      },
      "execution_count": null,
      "outputs": [
        {
          "output_type": "execute_result",
          "data": {
            "text/plain": [
              "<tf.Tensor: shape=(), dtype=int32, numpy=7>"
            ]
          },
          "metadata": {},
          "execution_count": 4
        }
      ]
    },
    {
      "cell_type": "code",
      "source": [
        "# Check the number of dimensions"
      ],
      "metadata": {
        "id": "xlODLWymhxBk"
      },
      "execution_count": null,
      "outputs": []
    },
    {
      "cell_type": "markdown",
      "source": [
        "### Creating Random Tensors\n"
      ],
      "metadata": {
        "id": "hFzDwrAUlQRO"
      }
    },
    {
      "cell_type": "code",
      "source": [
        "# First create the random generator and then call a distribution from it.\n",
        "random_1 = tf.random.Generator.from_seed(42)\n",
        "random_2 = random_1.uniform(shape=(3,2))\n",
        "random_2"
      ],
      "metadata": {
        "colab": {
          "base_uri": "https://localhost:8080/"
        },
        "id": "Fpz7ujq1lraU",
        "outputId": "503abfb4-0243-4385-b584-8014f3dbf0d0"
      },
      "execution_count": null,
      "outputs": [
        {
          "output_type": "execute_result",
          "data": {
            "text/plain": [
              "<tf.Tensor: shape=(3, 2), dtype=float32, numpy=\n",
              "array([[0.7493447 , 0.73561966],\n",
              "       [0.45230794, 0.49039817],\n",
              "       [0.1889317 , 0.52027524]], dtype=float32)>"
            ]
          },
          "metadata": {},
          "execution_count": 7
        }
      ]
    },
    {
      "cell_type": "code",
      "source": [
        "### Shuffle the order of tensors\n",
        "# Important so the machine can learn without bias from the order"
      ],
      "metadata": {
        "id": "PHkPLMASmgwq"
      },
      "execution_count": null,
      "outputs": []
    },
    {
      "cell_type": "code",
      "source": [
        "# Shuffle a tensor\n",
        "not_shuffled = tf.constant([[10,7],\n",
        "                            [3,4],\n",
        "                            [2,6]])\n",
        "\n",
        "# Shuffles elements column-wise\n",
        "tf.random.shuffle(not_shuffled)\n"
      ],
      "metadata": {
        "colab": {
          "base_uri": "https://localhost:8080/"
        },
        "id": "f0ko1445m5S2",
        "outputId": "eb867a5c-50a6-4d67-8bb1-51452ff0da47"
      },
      "execution_count": null,
      "outputs": [
        {
          "output_type": "execute_result",
          "data": {
            "text/plain": [
              "<tf.Tensor: shape=(3, 2), dtype=int32, numpy=\n",
              "array([[ 2,  6],\n",
              "       [10,  7],\n",
              "       [ 3,  4]], dtype=int32)>"
            ]
          },
          "metadata": {},
          "execution_count": 9
        }
      ]
    },
    {
      "cell_type": "markdown",
      "source": [
        "### If you want the same results for every re-run of tensor flow, you need to set the global and operation seed\n",
        "\n",
        "> If both the global and the operation seed are set: Both seeds are used in conjunction to determine the random sequence.\n"
      ],
      "metadata": {
        "id": "k0F-fgt6vFPv"
      }
    },
    {
      "cell_type": "markdown",
      "source": [
        "### Turn Numpy arrays into TensorFlow tensors\n",
        "The main difference between a Numpy array and a TensorFlow tensor is that tensors can be run on a GPU (much faster than a numpy array)"
      ],
      "metadata": {
        "id": "YO_dNTlll8Ma"
      }
    },
    {
      "cell_type": "code",
      "source": [
        "import numpy as np\n",
        "numpy_A = np.arange(0, 32, dtype=np.int32)\n",
        "numpy_A\n",
        "\n",
        "A = tf.constant(numpy_A)\n",
        "B = tf.constant(numpy_A, shape=(2,2,2,2,2))\n",
        "B"
      ],
      "metadata": {
        "colab": {
          "base_uri": "https://localhost:8080/"
        },
        "id": "CzEyxi8CwO8k",
        "outputId": "534576f0-edbf-4a6a-a2a4-e46734d4ec96"
      },
      "execution_count": null,
      "outputs": [
        {
          "output_type": "execute_result",
          "data": {
            "text/plain": [
              "<tf.Tensor: shape=(2, 2, 2, 2, 2), dtype=int32, numpy=\n",
              "array([[[[[ 0,  1],\n",
              "          [ 2,  3]],\n",
              "\n",
              "         [[ 4,  5],\n",
              "          [ 6,  7]]],\n",
              "\n",
              "\n",
              "        [[[ 8,  9],\n",
              "          [10, 11]],\n",
              "\n",
              "         [[12, 13],\n",
              "          [14, 15]]]],\n",
              "\n",
              "\n",
              "\n",
              "       [[[[16, 17],\n",
              "          [18, 19]],\n",
              "\n",
              "         [[20, 21],\n",
              "          [22, 23]]],\n",
              "\n",
              "\n",
              "        [[[24, 25],\n",
              "          [26, 27]],\n",
              "\n",
              "         [[28, 29],\n",
              "          [30, 31]]]]], dtype=int32)>"
            ]
          },
          "metadata": {},
          "execution_count": 15
        }
      ]
    },
    {
      "cell_type": "markdown",
      "source": [
        "### Indexing Tensors\n",
        "\n",
        "Tensors can be indexed just like python lists."
      ],
      "metadata": {
        "id": "KDdIXeNfwgAU"
      }
    },
    {
      "cell_type": "code",
      "source": [
        "# Get the first 2 elements of each dimension\n",
        "rank_4_tensor = tf.zeros(shape=[2,3,4,5])\n",
        "rank_4_tensor\n",
        "rank_4_tensor[:2,:2,:2,:2]"
      ],
      "metadata": {
        "colab": {
          "base_uri": "https://localhost:8080/"
        },
        "id": "ePigMdQL52mb",
        "outputId": "c8a07aa6-7bba-47f5-f0a1-235664fa5505"
      },
      "execution_count": null,
      "outputs": [
        {
          "output_type": "execute_result",
          "data": {
            "text/plain": [
              "<tf.Tensor: shape=(2, 2, 2, 2), dtype=float32, numpy=\n",
              "array([[[[0., 0.],\n",
              "         [0., 0.]],\n",
              "\n",
              "        [[0., 0.],\n",
              "         [0., 0.]]],\n",
              "\n",
              "\n",
              "       [[[0., 0.],\n",
              "         [0., 0.]],\n",
              "\n",
              "        [[0., 0.],\n",
              "         [0., 0.]]]], dtype=float32)>"
            ]
          },
          "metadata": {},
          "execution_count": 19
        }
      ]
    },
    {
      "cell_type": "code",
      "source": [
        "# Get the first element from each dimension from each index except for the final one\n",
        "rank_4_tensor[:1,:1,:1]"
      ],
      "metadata": {
        "colab": {
          "base_uri": "https://localhost:8080/"
        },
        "id": "q6sETBEz6zPU",
        "outputId": "7bafe165-3a6f-4fd0-aa79-d6e9dc4fe2a9"
      },
      "execution_count": null,
      "outputs": [
        {
          "output_type": "execute_result",
          "data": {
            "text/plain": [
              "<tf.Tensor: shape=(1, 1, 1, 5), dtype=float32, numpy=array([[[[0., 0., 0., 0., 0.]]]], dtype=float32)>"
            ]
          },
          "metadata": {},
          "execution_count": 22
        }
      ]
    },
    {
      "cell_type": "markdown",
      "source": [
        "# Section 2 Exercises\n",
        "* Create a tensor of zeros of dim 2x3\n",
        "* Create a tensor of all ones of dim 3x3x3x3\n",
        "* Create a numpy array of dim 2x3 and turn into a tensor\n",
        "* Create a numpy array of nx1 and turn into a tensor of dim rxc where r*c=n\n",
        "* Reshape a tensor of dimensions nxm into a tensor of dimension rxc\n",
        "* Create a tensor of your choice and grab its the shape, rank, dimension, and size.\n",
        "* Create a rank 4 tensor and prove it.\n",
        "* Grab the first element on the first axis\n",
        "* Grab the second element on the first axis\n",
        "* Grab the 4th row of the 2nd element in the 1st axis\n",
        "* `"
      ],
      "metadata": {
        "id": "1rCx3Ctm7IK4"
      }
    },
    {
      "cell_type": "code",
      "source": [
        "X = tf.constant([[1,2],\n",
        "                 [3,4],\n",
        "                 [5,6]])\n",
        "Y = tf.constant([[7,8],\n",
        "                 [9,10],\n",
        "                 [11,12]])\n",
        "tf.matmul(X, tf.reshape(Y, shape=(2,3)))\n",
        "tf.matmul(X, tf.transpose(Y))\n",
        "tf.transpose(Y)"
      ],
      "metadata": {
        "colab": {
          "base_uri": "https://localhost:8080/"
        },
        "id": "r70KfuhiYnas",
        "outputId": "f313fc36-dfd3-4866-8fee-3b7ecfbc777a"
      },
      "execution_count": null,
      "outputs": [
        {
          "output_type": "execute_result",
          "data": {
            "text/plain": [
              "<tf.Tensor: shape=(2, 3), dtype=int32, numpy=\n",
              "array([[ 7,  9, 11],\n",
              "       [ 8, 10, 12]], dtype=int32)>"
            ]
          },
          "metadata": {},
          "execution_count": 4
        }
      ]
    },
    {
      "cell_type": "code",
      "source": [
        "print(tf.tensordot(X, tf.transpose(Y), axes=1))\n",
        "print(tf.tensordot(X, tf.transpose(Y), axes=0))\n",
        "print(tf.tensordot(X, tf.transpose(Y), axes=2))\n",
        "print(tf.matmul(X, tf.transpose(Y)))"
      ],
      "metadata": {
        "colab": {
          "base_uri": "https://localhost:8080/"
        },
        "id": "C0Pxb6f8YzOU",
        "outputId": "5e9a7e31-92a7-402f-a523-69d69c475f80"
      },
      "execution_count": null,
      "outputs": [
        {
          "output_type": "stream",
          "name": "stdout",
          "text": [
            "tf.Tensor(\n",
            "[[ 23  29  35]\n",
            " [ 53  67  81]\n",
            " [ 83 105 127]], shape=(3, 3), dtype=int32)\n",
            "tf.Tensor(\n",
            "[[[[ 7  9 11]\n",
            "   [ 8 10 12]]\n",
            "\n",
            "  [[14 18 22]\n",
            "   [16 20 24]]]\n",
            "\n",
            "\n",
            " [[[21 27 33]\n",
            "   [24 30 36]]\n",
            "\n",
            "  [[28 36 44]\n",
            "   [32 40 48]]]\n",
            "\n",
            "\n",
            " [[[35 45 55]\n",
            "   [40 50 60]]\n",
            "\n",
            "  [[42 54 66]\n",
            "   [48 60 72]]]], shape=(3, 2, 2, 3), dtype=int32)\n",
            "tf.Tensor(212, shape=(), dtype=int32)\n",
            "tf.Tensor(\n",
            "[[ 23  29  35]\n",
            " [ 53  67  81]\n",
            " [ 83 105 127]], shape=(3, 3), dtype=int32)\n"
          ]
        }
      ]
    },
    {
      "cell_type": "code",
      "source": [
        "B = tf.constant([1.4,3.4])\n",
        "C = tf.constant([1.2,3.5], dtype=tf.float16)\n",
        "print(f\"The datatype of matrix B and C respectively is {B.dtype} and {C.dtype}\")"
      ],
      "metadata": {
        "colab": {
          "base_uri": "https://localhost:8080/"
        },
        "id": "hybFJfyAglT-",
        "outputId": "e460bede-07ae-47ae-b2cf-f4d29d54ca93"
      },
      "execution_count": null,
      "outputs": [
        {
          "output_type": "stream",
          "name": "stdout",
          "text": [
            "The datatype of matrix B and C respectively is <dtype: 'float32'> and <dtype: 'float16'>\n"
          ]
        }
      ]
    },
    {
      "cell_type": "code",
      "source": [
        "B = tf.constant([[[2.3,4.3],\n",
        "                 [3.4,2.3],\n",
        "                 [3.4,1.4]]], dtype=tf.float16)\n",
        "\n",
        "B.shape\n",
        "tf.reduce_max(B, axis=2)"
      ],
      "metadata": {
        "id": "x8Z4oTaBZ0dc",
        "colab": {
          "base_uri": "https://localhost:8080/"
        },
        "outputId": "92cd52b6-d2cc-4eee-82f7-0467e7dccf21"
      },
      "execution_count": null,
      "outputs": [
        {
          "output_type": "execute_result",
          "data": {
            "text/plain": [
              "<tf.Tensor: shape=(1, 3), dtype=float16, numpy=array([[4.3, 3.4, 3.4]], dtype=float16)>"
            ]
          },
          "metadata": {},
          "execution_count": 5
        }
      ]
    },
    {
      "cell_type": "code",
      "source": [
        "C = tf.random.normal(shape=(2,3,2), mean=1, stddev=1, dtype=tf.float16)\n",
        "print(C)\n",
        "tf.reduce_max(C, axis=0)\n"
      ],
      "metadata": {
        "colab": {
          "base_uri": "https://localhost:8080/"
        },
        "id": "faL8Bbmk7lEw",
        "outputId": "055cb79c-b496-42ea-ae14-008c345a588f"
      },
      "execution_count": null,
      "outputs": [
        {
          "output_type": "stream",
          "name": "stdout",
          "text": [
            "tf.Tensor(\n",
            "[[[-0.751  -0.1348]\n",
            "  [ 1.168  -0.3691]\n",
            "  [-0.676   1.698 ]]\n",
            "\n",
            " [[ 0.3872  1.615 ]\n",
            "  [ 1.543   0.8877]\n",
            "  [ 0.3755  1.816 ]]], shape=(2, 3, 2), dtype=float16)\n"
          ]
        },
        {
          "output_type": "execute_result",
          "data": {
            "text/plain": [
              "<tf.Tensor: shape=(3, 2), dtype=float16, numpy=\n",
              "array([[0.3872, 1.615 ],\n",
              "       [1.543 , 0.8877],\n",
              "       [0.3755, 1.816 ]], dtype=float16)>"
            ]
          },
          "metadata": {},
          "execution_count": 11
        }
      ]
    },
    {
      "cell_type": "code",
      "source": [
        "tf.reduce_max(C, axis=0, keepdims=True)"
      ],
      "metadata": {
        "colab": {
          "base_uri": "https://localhost:8080/"
        },
        "id": "7edhWlt_Ayy_",
        "outputId": "73fe812c-8623-4ce8-947d-041e10f52fe7"
      },
      "execution_count": null,
      "outputs": [
        {
          "output_type": "execute_result",
          "data": {
            "text/plain": [
              "<tf.Tensor: shape=(1, 3, 2), dtype=float16, numpy=\n",
              "array([[[0.3872, 1.615 ],\n",
              "        [1.543 , 0.8877],\n",
              "        [0.3755, 1.816 ]]], dtype=float16)>"
            ]
          },
          "metadata": {},
          "execution_count": 12
        }
      ]
    },
    {
      "cell_type": "code",
      "source": [
        "hours_slept = [6,6,7,8,6,6,5]\n",
        "tf.one_hot(hours_slept, depth=8)"
      ],
      "metadata": {
        "colab": {
          "base_uri": "https://localhost:8080/"
        },
        "id": "EM_ELa-mFBpp",
        "outputId": "dfd6f5e2-25a5-4c84-8d2c-5c18176283fe"
      },
      "execution_count": null,
      "outputs": [
        {
          "output_type": "execute_result",
          "data": {
            "text/plain": [
              "<tf.Tensor: shape=(7, 8), dtype=float32, numpy=\n",
              "array([[0., 0., 0., 0., 0., 0., 1., 0.],\n",
              "       [0., 0., 0., 0., 0., 0., 1., 0.],\n",
              "       [0., 0., 0., 0., 0., 0., 0., 1.],\n",
              "       [0., 0., 0., 0., 0., 0., 0., 0.],\n",
              "       [0., 0., 0., 0., 0., 0., 1., 0.],\n",
              "       [0., 0., 0., 0., 0., 0., 1., 0.],\n",
              "       [0., 0., 0., 0., 0., 1., 0., 0.]], dtype=float32)>"
            ]
          },
          "metadata": {},
          "execution_count": 15
        }
      ]
    }
  ]
}